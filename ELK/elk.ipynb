{
 "cells": [
  {
   "cell_type": "markdown",
   "metadata": {},
   "source": [
    "## ELK(Elasticsearch, Logstash and Kibana) stack:\n",
    "ELK is a distributed open-source search and analytics tools that allow us monitor, collect, analyze and visualize data in near real time. It is commonly used for log and event data analysis, full-text search.\n",
    "- ***Logstash:*** Collect logs and events data. It even `parses and transforms data`.\n",
    "- ***Elasticsearch:*** The transformed data from Logstash is Store, Search, and indexed.\n",
    "- ***Kibana:*** Kibana uses Elasticsearch DB to Explore, Visualize, and Share.\n",
    "- **Beats:** Beats is lightweight data shipper that send data from `hundreds or thousands of machines and systems` to `Logstash or Elasticsearch`.\n",
    "\n",
    "***Small Size ELK:***\n",
    "\n",
    "![Small Scale ELK](./elk-small.png)\n",
    "\n",
    "***Large Scale:***\n",
    "\n",
    "![Large ELK](./elk-large-scale.png)\n",
    "\n",
    "***Features***\n",
    "\n",
    "1. Distributed Architecture:\n",
    "2. Full-Text Search:\n",
    "3. Schema-Free:\n",
    "4. Real-Time Indexing:\n",
    "5. Restful API:\n",
    "6. Built-in Analytics"
   ]
  },
  {
   "cell_type": "markdown",
   "metadata": {},
   "source": [
    "### Key-Points:\n",
    "1. Index: Index is a collection of documents. It is like an RDBMS table.\n",
    "2. Node: Node means a computer (server) running Elasticsearch.\n",
    "3. Shard: An Index is a logical group of one or more physical shards. Each shard is a Lucene index (a self-contained index)"
   ]
  }
 ],
 "metadata": {
  "language_info": {
   "name": "python"
  }
 },
 "nbformat": 4,
 "nbformat_minor": 2
}
