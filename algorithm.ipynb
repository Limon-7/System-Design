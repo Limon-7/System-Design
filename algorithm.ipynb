{
 "cells": [
  {
   "cell_type": "markdown",
   "metadata": {},
   "source": [
    "### Algorithms:"
   ]
  },
  {
   "cell_type": "markdown",
   "metadata": {},
   "source": [
    "#### 8 Data Structures That Power Your Databases:\n",
    "- Skiplist\n",
    "- hash Index\n",
    "- SSTable\n",
    "- LSM tree\n",
    "- B-tree\n",
    "- Inverted index\n",
    "- Suffix tree\n",
    "- R-tree"
   ]
  },
  {
   "cell_type": "code",
   "execution_count": null,
   "metadata": {},
   "outputs": [],
   "source": []
  }
 ],
 "metadata": {
  "language_info": {
   "name": "python"
  }
 },
 "nbformat": 4,
 "nbformat_minor": 2
}
