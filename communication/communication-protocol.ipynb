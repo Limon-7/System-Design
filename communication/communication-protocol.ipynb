{
 "cells": [
  {
   "cell_type": "markdown",
   "metadata": {},
   "source": [
    "## API-Architecture Style:\n",
    "![image](api-architecture-style.png)"
   ]
  },
  {
   "cell_type": "markdown",
   "metadata": {},
   "source": [
    "1. SOAP(Simple Object Access Protocol): It uses XML as its message format and relies on `application layer protocols`, such as `HTTP or SMTP`, for message negotiation and transmission.\n",
    "   - Enterprise-level applications that require strict security, transactional reliability, and standardized messaging.\n",
    "\n",
    "2. REST(Representational State Transfer):  It relies on a stateless, client-server communication model and is designed to be simple and scalable. RESTful APIs use standard HTTP methods (GET, POST, PUT, DELETE).\n",
    "- Caching strategies are straightforward to implement.\n",
    "- The downside is it may require multiple roundtrips to assemble related data from separate endpoints.\n",
    "\n",
    "3. GraphQL: Provides a single endpoint for clients to query for precisely the data they need.\n",
    "   - Caching strategies can be more complicated than REST.\n",
    "4. gRPC: RPC (Remote Procedure Call) is called “remote” because it enables communications between remote services when services are deployed to different servers under microservice architecture.\n",
    "\n",
    "5. Webhook: A webhook is an HTTP-based callback function that allows applications to communicate with each other in real-time. It is a way for one system to notify another system of an event as soon as it occurs. Webhooks are widely used in various applications for real-time communication and automation.\n",
    "\n",
    "6. Webscoket: WebSockets provide a full-duplex communication channel over a single, long-lived connection.\n",
    "   - The client initiates a WebSocket connection through a process called the WebSocket handshake.\n",
    "   - Once the handshake is successful, the connection is upgraded from HTTP to WebSocket.\n",
    "   - Both the client and server can send messages to each other at any time.\n",
    "   - The connection remains open until either party decides to close it.\n",
    "\n",
    "7. Long-Pooling: Long-Polling is a technique where the client makes an HTTP request to the server, and the server holds the request open until new data is available. Once the server has new data, it responds to the client, which then immediately makes a new request. This creates a continuous connection for real-time updates.\n",
    "      - Advantage:\n",
    "        - Can serve as a fallback for environments where WebSockets are not supported.\n",
    "      - Cons:\n",
    "        - Higher latency compared to WebSockets due to the time required to establish new HTTP connections.\n",
    "        - Increased overhead from frequent HTTP requests and responses.\n",
    "        - Harder to scale due to the number of open HTTP connections and resource consumption on the server.\n",
    "8. Short Polling: The client keeps making the HTTP requests at a regular interval for example every 1–2 seconds. In this case, most of the requests might get an empty response because the server might not have any updates which are useful for the client.\n",
    "   - High HTTP Overhead\n",
    "   - Unnecessary network calls. Lots of requests going back and forth.\n",
    "   - Not suitable for real-time communication applications.\n",
    "\n",
    "9.  Server-Sent Events (SSE): A simple, long-lived HTTP connection that allows the server to send data to clients whenever needed, providing a unidirectional server-to-client communication.\n"
   ]
  }
 ],
 "metadata": {
  "language_info": {
   "name": "python"
  }
 },
 "nbformat": 4,
 "nbformat_minor": 2
}
