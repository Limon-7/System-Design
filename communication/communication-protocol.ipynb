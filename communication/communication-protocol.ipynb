{
 "cells": [
  {
   "cell_type": "markdown",
   "metadata": {},
   "source": [
    "## API-Architecture Style:\n",
    "![image](api-architecture-style.png)"
   ]
  },
  {
   "cell_type": "markdown",
   "metadata": {},
   "source": [
    "1. SOAP(Simple Object Access Protocol): It uses XML as its message format and relies on `application layer protocols`, such as `HTTP or SMTP`, for message negotiation and transmission.\n",
    "   - Enterprise-level applications that require strict security, transactional reliability, and standardized messaging.\n",
    "\n",
    "2. REST(Representational State Transfer):  It relies on a stateless, client-server communication model and is designed to be simple and scalable. RESTful APIs use standard HTTP methods (GET, POST, PUT, DELETE).\n",
    "- Caching strategies are straightforward to implement.\n",
    "- The downside is it may require multiple roundtrips to assemble related data from separate endpoints.\n",
    "\n",
    "3. GraphQL: Provides a single endpoint for clients to query for precisely the data they need.\n",
    "   - Caching strategies can be more complicated than REST.\n",
    "4. gRPC: RPC (Remote Procedure Call) is called “remote” because it enables communications between remote services when services are deployed to different servers under microservice architecture.\n",
    "\n",
    "5. Webhook: A webhook is an HTTP-based callback function that allows applications to communicate with each other in real-time. It is a way for one system to notify another system of an event as soon as it occurs. Webhooks are widely used in various applications for real-time communication and automation.\n",
    "\n",
    "6. Webscoket: Real-time, full-duplex communication.\n"
   ]
  }
 ],
 "metadata": {
  "language_info": {
   "name": "python"
  }
 },
 "nbformat": 4,
 "nbformat_minor": 2
}
